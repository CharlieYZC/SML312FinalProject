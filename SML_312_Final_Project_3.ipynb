{
 "cells": [
  {
   "cell_type": "code",
   "execution_count": 5,
   "metadata": {},
   "outputs": [],
   "source": [
    "# import statements\n",
    "import numpy as np\n",
    "import pandas as pd\n",
    "import matplotlib.pyplot as plt\n",
    "import pickle"
   ]
  },
  {
   "cell_type": "markdown",
   "metadata": {},
   "source": [
    "# Feature Selection (Continued) and Backtesting"
   ]
  },
  {
   "cell_type": "markdown",
   "metadata": {},
   "source": [
    "## Feature Selection (Continued)"
   ]
  },
  {
   "cell_type": "code",
   "execution_count": 52,
   "metadata": {},
   "outputs": [],
   "source": [
    "# Load the data\n",
    "with open('X.pkl', 'rb') as file:\n",
    "    X = pickle.load(file)\n",
    "\n",
    "with open('X_train.pkl', 'rb') as file:\n",
    "    X_train = pickle.load(file)\n",
    "\n",
    "with open('X_cv.pkl', 'rb') as file:\n",
    "    X_cv = pickle.load(file)\n",
    "\n",
    "with open('X_test.pkl', 'rb') as file:\n",
    "    X_test = pickle.load(file)\n",
    "\n",
    "with open('y.pkl', 'rb') as file:\n",
    "    y = pickle.load(file)\n",
    "\n",
    "with open('y_train.pkl', 'rb') as file:\n",
    "    y_train = pickle.load(file)\n",
    "\n",
    "with open('y_cv.pkl', 'rb') as file:\n",
    "    y_cv = pickle.load(file)\n",
    "\n",
    "with open('y_test.pkl', 'rb') as file:\n",
    "    y_test = pickle.load(file)\n",
    "\n",
    "with open('prices.pkl', 'rb') as file:\n",
    "    prices = pickle.load(file)\n",
    "\n",
    "with open('prices_train.pkl', 'rb') as file:\n",
    "    prices_train = pickle.load(file)\n",
    "\n",
    "with open('prices_cv.pkl', 'rb') as file:\n",
    "    prices_cv = pickle.load(file)\n",
    "\n",
    "with open('prices_test.pkl', 'rb') as file:\n",
    "    prices_test = pickle.load(file)"
   ]
  },
  {
   "cell_type": "markdown",
   "metadata": {},
   "source": [
    "### PCA"
   ]
  },
  {
   "cell_type": "code",
   "execution_count": 7,
   "metadata": {},
   "outputs": [
    {
     "name": "stdout",
     "output_type": "stream",
     "text": [
      "X_train_pca_df.head():\n",
      "            PC1           PC2\n",
      "0 -3.799823e+08  3.574709e+08\n",
      "1 -3.843273e+08  3.555559e+08\n",
      "2 -3.831247e+08  3.549867e+08\n",
      "3 -3.795958e+08  3.529777e+08\n",
      "4 -3.746756e+08  3.526910e+08\n",
      "X_cv_pca_df.head():\n",
      "            PC1           PC2\n",
      "0  3.385784e+08  1.934157e+07\n",
      "1  3.901904e+08  1.122044e+07\n",
      "2  4.289743e+08 -2.929905e+06\n",
      "3  4.743324e+08 -2.094481e+07\n",
      "4  5.144399e+08 -4.074275e+07\n",
      "X_test_pca_df.head():\n",
      "            PC1           PC2\n",
      "0 -1.145502e+08  1.422208e+08\n",
      "1 -1.048860e+08  1.345308e+08\n",
      "2 -8.485811e+07  1.359601e+08\n",
      "3 -6.302100e+07  1.359703e+08\n",
      "4 -4.997230e+07  1.331155e+08\n"
     ]
    }
   ],
   "source": [
    "from sklearn.decomposition import PCA\n",
    "\n",
    "# Define the datasets\n",
    "datasets = {'X_train': X_train, 'X_cv': X_cv, 'X_test': X_test}\n",
    "\n",
    "# Initialize PCA and fit it to the training data\n",
    "pca = PCA(n_components=2)\n",
    "pca.fit(X_train)\n",
    "\n",
    "# Initialize dictionaries to store the transformed data\n",
    "transformed_data = {}\n",
    "transformed_data_df = {}\n",
    "\n",
    "# Transform and convert the datasets\n",
    "for name, data in datasets.items():\n",
    "    transformed_data[name] = pca.transform(data)\n",
    "    transformed_data_df[name] = pd.DataFrame(transformed_data[name], columns=[f'PC{i+1}' for i in range(transformed_data[name].shape[1])])\n",
    "\n",
    "# Print the head of the transformed DataFrames\n",
    "for name, df in transformed_data_df.items():\n",
    "    print(f\"{name}_pca_df.head():\")\n",
    "    print(df.head())"
   ]
  },
  {
   "cell_type": "code",
   "execution_count": 96,
   "metadata": {},
   "outputs": [],
   "source": [
    "from sklearn.pipeline import make_pipeline\n",
    "from sklearn.neighbors import KNeighborsClassifier\n",
    "from sklearn.naive_bayes import GaussianNB\n",
    "from sklearn.linear_model import LogisticRegression\n",
    "from sklearn.preprocessing import StandardScaler\n",
    "from sklearn.svm import SVC\n",
    "from sklearn.tree import DecisionTreeClassifier\n",
    "from sklearn.ensemble import RandomForestClassifier\n",
    "\n",
    "knn = make_pipeline(StandardScaler(), KNeighborsClassifier())\n",
    "nb = GaussianNB()\n",
    "log_reg = make_pipeline(StandardScaler(), LogisticRegression())\n",
    "svm =  make_pipeline(StandardScaler(), SVC(kernel='linear', random_state=37))\n",
    "dt = DecisionTreeClassifier(random_state=37)\n",
    "rf = RandomForestClassifier(random_state=37)\n",
    "\n",
    "models = {'knn': knn, 'nb': nb, 'log_reg': log_reg, 'svm': svm, 'dt': dt, 'rf': rf}"
   ]
  },
  {
   "cell_type": "code",
   "execution_count": 97,
   "metadata": {},
   "outputs": [
    {
     "name": "stderr",
     "output_type": "stream",
     "text": [
      "/Users/charlieyang/anaconda3/lib/python3.11/site-packages/sklearn/neighbors/_classification.py:238: DataConversionWarning: A column-vector y was passed when a 1d array was expected. Please change the shape of y to (n_samples,), for example using ravel().\n",
      "  return self._fit(X, y)\n",
      "/Users/charlieyang/anaconda3/lib/python3.11/site-packages/sklearn/utils/validation.py:1339: DataConversionWarning: A column-vector y was passed when a 1d array was expected. Please change the shape of y to (n_samples, ), for example using ravel().\n",
      "  y = column_or_1d(y, warn=True)\n",
      "/Users/charlieyang/anaconda3/lib/python3.11/site-packages/sklearn/utils/validation.py:1339: DataConversionWarning: A column-vector y was passed when a 1d array was expected. Please change the shape of y to (n_samples, ), for example using ravel().\n",
      "  y = column_or_1d(y, warn=True)\n",
      "/Users/charlieyang/anaconda3/lib/python3.11/site-packages/sklearn/linear_model/_logistic.py:469: ConvergenceWarning: lbfgs failed to converge (status=1):\n",
      "STOP: TOTAL NO. of ITERATIONS REACHED LIMIT.\n",
      "\n",
      "Increase the number of iterations (max_iter) or scale the data as shown in:\n",
      "    https://scikit-learn.org/stable/modules/preprocessing.html\n",
      "Please also refer to the documentation for alternative solver options:\n",
      "    https://scikit-learn.org/stable/modules/linear_model.html#logistic-regression\n",
      "  n_iter_i = _check_optimize_result(\n",
      "/Users/charlieyang/anaconda3/lib/python3.11/site-packages/sklearn/utils/validation.py:1339: DataConversionWarning: A column-vector y was passed when a 1d array was expected. Please change the shape of y to (n_samples, ), for example using ravel().\n",
      "  y = column_or_1d(y, warn=True)\n",
      "/Users/charlieyang/anaconda3/lib/python3.11/site-packages/sklearn/base.py:1473: DataConversionWarning: A column-vector y was passed when a 1d array was expected. Please change the shape of y to (n_samples,), for example using ravel().\n",
      "  return fit_method(estimator, *args, **kwargs)\n"
     ]
    }
   ],
   "source": [
    "from sklearn.metrics import accuracy_score, precision_score, recall_score, confusion_matrix\n",
    "\n",
    "# Dictionary to store the results\n",
    "results = {}\n",
    "\n",
    "# Iterate over each model in the models set\n",
    "for model_name, model in models.items():\n",
    "    # Fit the model to the training data\n",
    "    model.fit(X_train, y_train)\n",
    "    \n",
    "    # Predict the target values for the cross-validation set\n",
    "    y_cv_pred = model.predict(X_cv)\n",
    "    \n",
    "    # Calculate accuracy, precision, and recall\n",
    "    accuracy = accuracy_score(y_cv, y_cv_pred)\n",
    "    precision = precision_score(y_cv, y_cv_pred)\n",
    "    recall = recall_score(y_cv, y_cv_pred)\n",
    "    \n",
    "    # Store the results in the dictionary\n",
    "    results[model_name] = {\n",
    "        'accuracy': accuracy,\n",
    "        'precision': precision,\n",
    "        'recall': recall,\n",
    "        'confusion_matrix': confusion_matrix(y_cv, y_cv_pred)\n",
    "    }"
   ]
  },
  {
   "cell_type": "code",
   "execution_count": 10,
   "metadata": {},
   "outputs": [
    {
     "name": "stdout",
     "output_type": "stream",
     "text": [
      "knn:\n",
      "  Accuracy: 0.4737\n",
      "  Precision: 0.5612\n",
      "  Recall: 0.2921\n",
      "  Confusion Matrix:\n",
      "         Predicted 0  Predicted 1\n",
      "Actual 0    147          61\n",
      "Actual 1    189          78\n",
      "\n",
      "nb:\n",
      "  Accuracy: 0.5537\n",
      "  Precision: 0.5647\n",
      "  Recall: 0.8989\n",
      "  Confusion Matrix:\n",
      "         Predicted 0  Predicted 1\n",
      "Actual 0    23          185\n",
      "Actual 1    27          240\n",
      "\n",
      "log_reg:\n",
      "  Accuracy: 0.5179\n",
      "  Precision: 0.5864\n",
      "  Recall: 0.4831\n",
      "  Confusion Matrix:\n",
      "         Predicted 0  Predicted 1\n",
      "Actual 0    117          91\n",
      "Actual 1    138          129\n",
      "\n",
      "svm:\n",
      "  Accuracy: 0.4400\n",
      "  Precision: 0.5556\n",
      "  Recall: 0.0187\n",
      "  Confusion Matrix:\n",
      "         Predicted 0  Predicted 1\n",
      "Actual 0    204          4\n",
      "Actual 1    262          5\n",
      "\n",
      "dt:\n",
      "  Accuracy: 0.4779\n",
      "  Precision: 0.5333\n",
      "  Recall: 0.5693\n",
      "  Confusion Matrix:\n",
      "         Predicted 0  Predicted 1\n",
      "Actual 0    75          133\n",
      "Actual 1    115          152\n",
      "\n",
      "rf:\n",
      "  Accuracy: 0.4526\n",
      "  Precision: 0.5294\n",
      "  Recall: 0.2360\n",
      "  Confusion Matrix:\n",
      "         Predicted 0  Predicted 1\n",
      "Actual 0    152          56\n",
      "Actual 1    204          63\n",
      "\n"
     ]
    }
   ],
   "source": [
    "# Print the results\n",
    "for model_name, metrics in results.items():\n",
    "    print(f\"{model_name}:\")\n",
    "    print(f\"  Accuracy: {metrics['accuracy']:.4f}\")\n",
    "    print(f\"  Precision: {metrics['precision']:.4f}\")\n",
    "    print(f\"  Recall: {metrics['recall']:.4f}\")\n",
    "    print(f\"  Confusion Matrix:\")\n",
    "    print(f\"         Predicted 0  Predicted 1\")\n",
    "    print(f\"Actual 0    {metrics['confusion_matrix'][0, 0]}          {metrics['confusion_matrix'][0, 1]}\")\n",
    "    print(f\"Actual 1    {metrics['confusion_matrix'][1, 0]}          {metrics['confusion_matrix'][1, 1]}\")\n",
    "    print()"
   ]
  },
  {
   "cell_type": "code",
   "execution_count": null,
   "metadata": {},
   "outputs": [],
   "source": [
    "knn2 = make_pipeline(StandardScaler(), KNeighborsClassifier())\n",
    "nb2 = GaussianNB()\n",
    "log_reg2 = make_pipeline(StandardScaler(), LogisticRegression())\n",
    "svm2 =  make_pipeline(StandardScaler(), SVC(kernel='linear', random_state=37))\n",
    "dt2 = DecisionTreeClassifier(random_state=37)\n",
    "rf2 = RandomForestClassifier(random_state=37)\n",
    "\n",
    "models2= {'knn': knn2, 'nb': nb2, 'log_reg': log_reg2, 'svm': svm2, 'dt': dt2, 'rf': rf2}"
   ]
  },
  {
   "cell_type": "code",
   "execution_count": null,
   "metadata": {},
   "outputs": [
    {
     "name": "stderr",
     "output_type": "stream",
     "text": [
      "/Users/charlieyang/anaconda3/lib/python3.11/site-packages/sklearn/neighbors/_classification.py:238: DataConversionWarning: A column-vector y was passed when a 1d array was expected. Please change the shape of y to (n_samples,), for example using ravel().\n",
      "  return self._fit(X, y)\n",
      "/Users/charlieyang/anaconda3/lib/python3.11/site-packages/sklearn/utils/validation.py:1339: DataConversionWarning: A column-vector y was passed when a 1d array was expected. Please change the shape of y to (n_samples, ), for example using ravel().\n",
      "  y = column_or_1d(y, warn=True)\n",
      "/Users/charlieyang/anaconda3/lib/python3.11/site-packages/sklearn/utils/validation.py:1339: DataConversionWarning: A column-vector y was passed when a 1d array was expected. Please change the shape of y to (n_samples, ), for example using ravel().\n",
      "  y = column_or_1d(y, warn=True)\n",
      "/Users/charlieyang/anaconda3/lib/python3.11/site-packages/sklearn/utils/validation.py:1339: DataConversionWarning: A column-vector y was passed when a 1d array was expected. Please change the shape of y to (n_samples, ), for example using ravel().\n",
      "  y = column_or_1d(y, warn=True)\n",
      "/Users/charlieyang/anaconda3/lib/python3.11/site-packages/sklearn/base.py:1473: DataConversionWarning: A column-vector y was passed when a 1d array was expected. Please change the shape of y to (n_samples,), for example using ravel().\n",
      "  return fit_method(estimator, *args, **kwargs)\n"
     ]
    }
   ],
   "source": [
    "# Dictionary to store the results\n",
    "results2 = {}\n",
    "\n",
    "# Iterate over each model in the models set\n",
    "for model_name, model in models2.items():\n",
    "    # Fit the model to the training data\n",
    "    model.fit(transformed_data_df['X_train'], y_train)\n",
    "    \n",
    "    # Predict the target values for the cross-validation set\n",
    "    y_cv_pred = model.predict(transformed_data_df['X_cv'])\n",
    "    \n",
    "    # Calculate accuracy, precision, and recall\n",
    "    accuracy = accuracy_score(y_cv, y_cv_pred)\n",
    "    precision = precision_score(y_cv, y_cv_pred)\n",
    "    recall = recall_score(y_cv, y_cv_pred)\n",
    "    \n",
    "    # Store the results in the dictionary\n",
    "    results2[model_name] = {\n",
    "        'accuracy': accuracy,\n",
    "        'precision': precision,\n",
    "        'recall': recall,\n",
    "        'confusion_matrix': confusion_matrix(y_cv, y_cv_pred)\n",
    "    }"
   ]
  },
  {
   "cell_type": "code",
   "execution_count": 13,
   "metadata": {},
   "outputs": [
    {
     "name": "stdout",
     "output_type": "stream",
     "text": [
      "knn:\n",
      "  Accuracy: 0.4737 -> 0.5347\n",
      "  Precision: 0.5612 -> 0.5927\n",
      "  Recall: 0.2921 -> 0.5506\n",
      "  Confusion Matrix:\n",
      "          Predicted 0  Predicted 1\n",
      "Actual 0    147 -> 107  61 -> 101\n",
      "Actual 1    189 -> 120  78 -> 147\n",
      "\n",
      "nb:\n",
      "  Accuracy: 0.5537 -> 0.5621\n",
      "  Precision: 0.5647 -> 0.5621\n",
      "  Recall: 0.8989 -> 1.0000\n",
      "  Confusion Matrix:\n",
      "          Predicted 0  Predicted 1\n",
      "Actual 0    23 -> 0  185 -> 208\n",
      "Actual 1    27 -> 0  240 -> 267\n",
      "\n",
      "log_reg:\n",
      "  Accuracy: 0.5179 -> 0.5621\n",
      "  Precision: 0.5864 -> 0.5621\n",
      "  Recall: 0.4831 -> 1.0000\n",
      "  Confusion Matrix:\n",
      "          Predicted 0  Predicted 1\n",
      "Actual 0    117 -> 0  91 -> 208\n",
      "Actual 1    138 -> 0  129 -> 267\n",
      "\n",
      "svm:\n",
      "  Accuracy: 0.4400 -> 0.5621\n",
      "  Precision: 0.5556 -> 0.5621\n",
      "  Recall: 0.0187 -> 1.0000\n",
      "  Confusion Matrix:\n",
      "          Predicted 0  Predicted 1\n",
      "Actual 0    204 -> 0  4 -> 208\n",
      "Actual 1    262 -> 0  5 -> 267\n",
      "\n",
      "dt:\n",
      "  Accuracy: 0.4779 -> 0.5032\n",
      "  Precision: 0.5333 -> 0.5660\n",
      "  Recall: 0.5693 -> 0.4981\n",
      "  Confusion Matrix:\n",
      "          Predicted 0  Predicted 1\n",
      "Actual 0    75 -> 106  133 -> 102\n",
      "Actual 1    115 -> 134  152 -> 133\n",
      "\n",
      "rf:\n",
      "  Accuracy: 0.4526 -> 0.5179\n",
      "  Precision: 0.5294 -> 0.5731\n",
      "  Recall: 0.2360 -> 0.5581\n",
      "  Confusion Matrix:\n",
      "          Predicted 0  Predicted 1\n",
      "Actual 0    152 -> 97  56 -> 111\n",
      "Actual 1    204 -> 118  63 -> 149\n",
      "\n"
     ]
    }
   ],
   "source": [
    "# Print the results\n",
    "for (model_name, metrics), (model_name2, metrics2) in zip(results.items(), results2.items()):\n",
    "    print(f\"{model_name}:\")\n",
    "    print(f\"  Accuracy: {metrics['accuracy']:.4f} -> {metrics2['accuracy']:.4f}\")\n",
    "    print(f\"  Precision: {metrics['precision']:.4f} -> {metrics2['precision']:.4f}\")\n",
    "    print(f\"  Recall: {metrics['recall']:.4f} -> {metrics2['recall']:.4f}\")\n",
    "    print(f\"  Confusion Matrix:\")\n",
    "    print(f\"          Predicted 0  Predicted 1\")\n",
    "    print(f\"Actual 0    {metrics['confusion_matrix'][0, 0]} -> {metrics2['confusion_matrix'][0, 0]}  {metrics['confusion_matrix'][0, 1]} -> {metrics2['confusion_matrix'][0, 1]}\")\n",
    "    print(f\"Actual 1    {metrics['confusion_matrix'][1, 0]} -> {metrics2['confusion_matrix'][1, 0]}  {metrics['confusion_matrix'][1, 1]} -> {metrics2['confusion_matrix'][1, 1]}\")\n",
    "    print()"
   ]
  },
  {
   "cell_type": "markdown",
   "metadata": {},
   "source": [
    "### Lasso"
   ]
  },
  {
   "cell_type": "code",
   "execution_count": 15,
   "metadata": {},
   "outputs": [
    {
     "name": "stderr",
     "output_type": "stream",
     "text": [
      "/Users/charlieyang/anaconda3/lib/python3.11/site-packages/sklearn/svm/_base.py:1235: ConvergenceWarning: Liblinear failed to converge, increase the number of iterations.\n",
      "  warnings.warn(\n",
      "/Users/charlieyang/anaconda3/lib/python3.11/site-packages/sklearn/svm/_base.py:1235: ConvergenceWarning: Liblinear failed to converge, increase the number of iterations.\n",
      "  warnings.warn(\n"
     ]
    }
   ],
   "source": [
    "# Define different values of lambda (regularization strength)\n",
    "lambdas = [0.1, 1, 10]\n",
    "\n",
    "# Dictionary to store features with non-zero coefficients for each lambda\n",
    "non_zero_features = {}\n",
    "\n",
    "# Dictionary to store the results for log_reg_lasso\n",
    "result_log_reg_lasso = {}\n",
    "\n",
    "# Iterate over each lambda value\n",
    "for l in lambdas:\n",
    "    # Create a logistic regression model with Lasso regularization\n",
    "    log_reg_lasso = make_pipeline(StandardScaler(), LogisticRegression(penalty='l1', C=1/l, solver='liblinear'))\n",
    "    \n",
    "    # Fit the model to the training data\n",
    "    log_reg_lasso.fit(X_train, y_train.values.ravel())\n",
    "    \n",
    "    # Get the coefficients from the logistic regression model\n",
    "    coefficients = log_reg_lasso.named_steps['logisticregression'].coef_[0]\n",
    "    \n",
    "    # Get the feature names\n",
    "    feature_names = X_train.columns\n",
    "    \n",
    "    # Find the features with non-zero coefficients\n",
    "    non_zero_features[l] = [feature for coef, feature in zip(coefficients, feature_names) if coef != 0]\n",
    "\n",
    "    # Fit the log_reg_lasso model to the training data\n",
    "    log_reg_lasso.fit(X_train, y_train.values.ravel())\n",
    "\n",
    "    # Predict the target values for the cross-validation set\n",
    "    y_cv_pred_lasso = log_reg_lasso.predict(X_cv)\n",
    "\n",
    "    # Calculate accuracy, precision, and recall\n",
    "    accuracy_lasso = accuracy_score(y_cv, y_cv_pred_lasso)\n",
    "    precision_lasso = precision_score(y_cv, y_cv_pred_lasso)\n",
    "    recall_lasso = recall_score(y_cv, y_cv_pred_lasso)\n",
    "\n",
    "    # Store the results in the dictionary\n",
    "    result_log_reg_lasso[l] = {\n",
    "        'accuracy' : accuracy_lasso,\n",
    "        'precision' : precision_lasso,\n",
    "        'recall' : recall_lasso,\n",
    "        'confusion_matrix' : confusion_matrix(y_cv, y_cv_pred_lasso)\n",
    "    }\n"
   ]
  },
  {
   "cell_type": "code",
   "execution_count": 16,
   "metadata": {},
   "outputs": [
    {
     "name": "stdout",
     "output_type": "stream",
     "text": [
      "Lambda 0.1: 2012 non-zero features\n",
      "Lambda 1: 932 non-zero features\n",
      "Lambda 10: 301 non-zero features\n",
      "Lambda 0.1:\n",
      "  Accuracy: 0.4421\n",
      "  Precision: 0.6000\n",
      "  Recall: 0.0225\n",
      "  Confusion Matrix:\n",
      "         Predicted 0  Predicted 1\n",
      "Actual 0    204          4\n",
      "Actual 1    261          6\n",
      "\n",
      "Lambda 1:\n",
      "  Accuracy: 0.4695\n",
      "  Precision: 0.5926\n",
      "  Recall: 0.1798\n",
      "  Confusion Matrix:\n",
      "         Predicted 0  Predicted 1\n",
      "Actual 0    175          33\n",
      "Actual 1    219          48\n",
      "\n",
      "Lambda 10:\n",
      "  Accuracy: 0.4989\n",
      "  Precision: 0.5531\n",
      "  Recall: 0.5655\n",
      "  Confusion Matrix:\n",
      "         Predicted 0  Predicted 1\n",
      "Actual 0    86          122\n",
      "Actual 1    116          151\n",
      "\n"
     ]
    }
   ],
   "source": [
    "# Print the number of non-zero features for each lambda\n",
    "for l, features in non_zero_features.items():\n",
    "    print(f\"Lambda {l}: {len(features)} non-zero features\")\n",
    "\n",
    "# Print the results for logistic regression with Lasso regularization\n",
    "for l, metrics in result_log_reg_lasso.items():\n",
    "    print(f\"Lambda {l}:\")\n",
    "    print(f\"  Accuracy: {metrics['accuracy']:.4f}\")\n",
    "    print(f\"  Precision: {metrics['precision']:.4f}\")\n",
    "    print(f\"  Recall: {metrics['recall']:.4f}\")\n",
    "    print(f\"  Confusion Matrix:\")\n",
    "    print(f\"         Predicted 0  Predicted 1\")\n",
    "    print(f\"Actual 0    {metrics['confusion_matrix'][0, 0]}          {metrics['confusion_matrix'][0, 1]}\")\n",
    "    print(f\"Actual 1    {metrics['confusion_matrix'][1, 0]}          {metrics['confusion_matrix'][1, 1]}\")\n",
    "    print()"
   ]
  },
  {
   "cell_type": "code",
   "execution_count": 19,
   "metadata": {},
   "outputs": [],
   "source": [
    "# List of 301 features\n",
    "features_301 = non_zero_features[10]\n",
    "\n",
    "# Filter the datasets to include only the 301 features\n",
    "X_301 = X[features_301]\n",
    "X_train_301 = X_train[features_301]\n",
    "X_cv_301 = X_cv[features_301]\n",
    "X_test_301 = X_test[features_301]"
   ]
  },
  {
   "cell_type": "code",
   "execution_count": 108,
   "metadata": {},
   "outputs": [
    {
     "name": "stdout",
     "output_type": "stream",
     "text": [
      "Number of unique 'features': 36\n",
      "df_spy_pct_change_\n",
      "VOL_df_spy_\n",
      "b30ret_\n",
      "cpiret_\n",
      "b7ret_\n",
      "VOL_df_tlt_\n",
      "VOL_df_tip_\n",
      "b5ret_\n",
      "vxdo_\n",
      "df_oih_pct_change_\n",
      "b1ret_\n",
      "VOL_df_qqq_\n",
      "vxdl_\n",
      "exratd_fromUSD_df_gbp_\n",
      "df_tip_pct_change_\n",
      "vixl_\n",
      "VOL_df_iyr_\n",
      "vxnl_\n",
      "vxdh_\n",
      "b2ret_\n",
      "exratd_toUSD_df_chf_\n",
      "df_lqd_pct_change_\n",
      "ASKHI_df_iyr_\n",
      "BIDLO_df_lqd_\n",
      "b10ret_\n",
      "df_iyr_pct_change_\n",
      "b20ret_\n",
      "VOL_df_oih_\n",
      "df_qqq_pct_change_\n",
      "ASKHI_df_tip_\n",
      "df_gld_pct_change_\n",
      "VOL_df_gld_\n",
      "VOL_df_lqd_\n",
      "vixh_\n",
      "df_tlt_pct_change_\n",
      "vxd_\n"
     ]
    }
   ],
   "source": [
    "unique_features = set()\n",
    "\n",
    "for feature in features_301:\n",
    "    feature = feature[:feature.index('-')]\n",
    "    unique_features.add(feature)\n",
    "\n",
    "print(f\"Number of unique 'features': {len(unique_features)}\")\n",
    "\n",
    "for feature in unique_features:\n",
    "    print(feature)"
   ]
  },
  {
   "cell_type": "code",
   "execution_count": 62,
   "metadata": {},
   "outputs": [],
   "source": [
    "knn3 = make_pipeline(StandardScaler(), KNeighborsClassifier())\n",
    "nb3 = GaussianNB()\n",
    "log_reg3 = make_pipeline(StandardScaler(), LogisticRegression())\n",
    "svm3 =  make_pipeline(StandardScaler(), SVC(kernel='linear', random_state=37))\n",
    "dt3 = DecisionTreeClassifier(random_state=37)\n",
    "rf3 = RandomForestClassifier(random_state=37)\n",
    "\n",
    "models3 = {'knn': knn3, 'nb': nb3, 'log_reg': log_reg3, 'svm': svm3, 'dt': dt3, 'rf': rf3}"
   ]
  },
  {
   "cell_type": "code",
   "execution_count": null,
   "metadata": {},
   "outputs": [
    {
     "name": "stderr",
     "output_type": "stream",
     "text": [
      "/Users/charlieyang/anaconda3/lib/python3.11/site-packages/sklearn/neighbors/_classification.py:238: DataConversionWarning: A column-vector y was passed when a 1d array was expected. Please change the shape of y to (n_samples,), for example using ravel().\n",
      "  return self._fit(X, y)\n",
      "/Users/charlieyang/anaconda3/lib/python3.11/site-packages/sklearn/utils/validation.py:1339: DataConversionWarning: A column-vector y was passed when a 1d array was expected. Please change the shape of y to (n_samples, ), for example using ravel().\n",
      "  y = column_or_1d(y, warn=True)\n",
      "/Users/charlieyang/anaconda3/lib/python3.11/site-packages/sklearn/utils/validation.py:1339: DataConversionWarning: A column-vector y was passed when a 1d array was expected. Please change the shape of y to (n_samples, ), for example using ravel().\n",
      "  y = column_or_1d(y, warn=True)\n",
      "/Users/charlieyang/anaconda3/lib/python3.11/site-packages/sklearn/linear_model/_logistic.py:469: ConvergenceWarning: lbfgs failed to converge (status=1):\n",
      "STOP: TOTAL NO. of ITERATIONS REACHED LIMIT.\n",
      "\n",
      "Increase the number of iterations (max_iter) or scale the data as shown in:\n",
      "    https://scikit-learn.org/stable/modules/preprocessing.html\n",
      "Please also refer to the documentation for alternative solver options:\n",
      "    https://scikit-learn.org/stable/modules/linear_model.html#logistic-regression\n",
      "  n_iter_i = _check_optimize_result(\n",
      "/Users/charlieyang/anaconda3/lib/python3.11/site-packages/sklearn/utils/validation.py:1339: DataConversionWarning: A column-vector y was passed when a 1d array was expected. Please change the shape of y to (n_samples, ), for example using ravel().\n",
      "  y = column_or_1d(y, warn=True)\n",
      "/Users/charlieyang/anaconda3/lib/python3.11/site-packages/sklearn/base.py:1473: DataConversionWarning: A column-vector y was passed when a 1d array was expected. Please change the shape of y to (n_samples,), for example using ravel().\n",
      "  return fit_method(estimator, *args, **kwargs)\n"
     ]
    }
   ],
   "source": [
    "# Dictionary to store the results\n",
    "results3 = {}\n",
    "\n",
    "# Iterate over each model in the models set\n",
    "for model_name, model in models3.items():\n",
    "    # Fit the model to the training data\n",
    "    model.fit(X_train_301, y_train)\n",
    "    \n",
    "    # Predict the target values for the cross-validation set\n",
    "    y_cv_pred = model.predict(X_cv_301)\n",
    "    \n",
    "    # Calculate accuracy, precision, and recall\n",
    "    accuracy = accuracy_score(y_cv, y_cv_pred)\n",
    "    precision = precision_score(y_cv, y_cv_pred)\n",
    "    recall = recall_score(y_cv, y_cv_pred)\n",
    "    \n",
    "    # Store the results in the dictionary\n",
    "    results3[model_name] = {\n",
    "        'accuracy': accuracy,\n",
    "        'precision': precision,\n",
    "        'recall': recall,\n",
    "        'confusion_matrix': confusion_matrix(y_cv, y_cv_pred)\n",
    "    }"
   ]
  },
  {
   "cell_type": "code",
   "execution_count": 24,
   "metadata": {},
   "outputs": [
    {
     "name": "stdout",
     "output_type": "stream",
     "text": [
      "knn:\n",
      "  Accuracy: 0.4737 -> 0.5158\n",
      "  Precision: 0.5612 -> 0.5533\n",
      "  Recall: 0.2921 -> 0.7191\n",
      "  Confusion Matrix:\n",
      "          Predicted 0  Predicted 1\n",
      "Actual 0    147 -> 53  61 -> 155\n",
      "Actual 1    189 -> 75  78 -> 192\n",
      "\n",
      "nb:\n",
      "  Accuracy: 0.5537 -> 0.5284\n",
      "  Precision: 0.5647 -> 0.5533\n",
      "  Recall: 0.8989 -> 0.8352\n",
      "  Confusion Matrix:\n",
      "          Predicted 0  Predicted 1\n",
      "Actual 0    23 -> 28  185 -> 180\n",
      "Actual 1    27 -> 44  240 -> 223\n",
      "\n",
      "log_reg:\n",
      "  Accuracy: 0.5179 -> 0.4968\n",
      "  Precision: 0.5864 -> 0.5543\n",
      "  Recall: 0.4831 -> 0.5356\n",
      "  Confusion Matrix:\n",
      "          Predicted 0  Predicted 1\n",
      "Actual 0    117 -> 93  91 -> 115\n",
      "Actual 1    138 -> 124  129 -> 143\n",
      "\n",
      "svm:\n",
      "  Accuracy: 0.4400 -> 0.4947\n",
      "  Precision: 0.5556 -> 0.5477\n",
      "  Recall: 0.0187 -> 0.5805\n",
      "  Confusion Matrix:\n",
      "          Predicted 0  Predicted 1\n",
      "Actual 0    204 -> 80  4 -> 128\n",
      "Actual 1    262 -> 112  5 -> 155\n",
      "\n",
      "dt:\n",
      "  Accuracy: 0.4779 -> 0.5621\n",
      "  Precision: 0.5333 -> 0.6130\n",
      "  Recall: 0.5693 -> 0.5993\n",
      "  Confusion Matrix:\n",
      "          Predicted 0  Predicted 1\n",
      "Actual 0    75 -> 107  133 -> 101\n",
      "Actual 1    115 -> 107  152 -> 160\n",
      "\n",
      "rf:\n",
      "  Accuracy: 0.4526 -> 0.5347\n",
      "  Precision: 0.5294 -> 0.5665\n",
      "  Recall: 0.2360 -> 0.7341\n",
      "  Confusion Matrix:\n",
      "          Predicted 0  Predicted 1\n",
      "Actual 0    152 -> 58  56 -> 150\n",
      "Actual 1    204 -> 71  63 -> 196\n",
      "\n"
     ]
    }
   ],
   "source": [
    "# Print the results\n",
    "for (model_name, metrics), (model_name3, metrics3) in zip(results.items(), results3.items()):\n",
    "    print(f\"{model_name}:\")\n",
    "    print(f\"  Accuracy: {metrics['accuracy']:.4f} -> {metrics3['accuracy']:.4f}\")\n",
    "    print(f\"  Precision: {metrics['precision']:.4f} -> {metrics3['precision']:.4f}\")\n",
    "    print(f\"  Recall: {metrics['recall']:.4f} -> {metrics3['recall']:.4f}\")\n",
    "    print(f\"  Confusion Matrix:\")\n",
    "    print(f\"          Predicted 0  Predicted 1\")\n",
    "    print(f\"Actual 0    {metrics['confusion_matrix'][0, 0]} -> {metrics3['confusion_matrix'][0, 0]}  {metrics['confusion_matrix'][0, 1]} -> {metrics3['confusion_matrix'][0, 1]}\")\n",
    "    print(f\"Actual 1    {metrics['confusion_matrix'][1, 0]} -> {metrics3['confusion_matrix'][1, 0]}  {metrics['confusion_matrix'][1, 1]} -> {metrics3['confusion_matrix'][1, 1]}\")\n",
    "    print()"
   ]
  },
  {
   "cell_type": "code",
   "execution_count": null,
   "metadata": {},
   "outputs": [
    {
     "name": "stderr",
     "output_type": "stream",
     "text": [
      "/Users/charlieyang/anaconda3/lib/python3.11/site-packages/sklearn/utils/validation.py:1339: DataConversionWarning: A column-vector y was passed when a 1d array was expected. Please change the shape of y to (n_samples, ), for example using ravel().\n",
      "  y = column_or_1d(y, warn=True)\n",
      "/Users/charlieyang/anaconda3/lib/python3.11/site-packages/sklearn/utils/validation.py:1339: DataConversionWarning: A column-vector y was passed when a 1d array was expected. Please change the shape of y to (n_samples, ), for example using ravel().\n",
      "  y = column_or_1d(y, warn=True)\n",
      "/Users/charlieyang/anaconda3/lib/python3.11/site-packages/sklearn/discriminant_analysis.py:947: UserWarning: Variables are collinear\n",
      "  warnings.warn(\"Variables are collinear\")\n"
     ]
    }
   ],
   "source": [
    "from sklearn.discriminant_analysis import LinearDiscriminantAnalysis, QuadraticDiscriminantAnalysis\n",
    "from sklearn.metrics import accuracy_score, precision_score, recall_score, confusion_matrix\n",
    "\n",
    "# Initialize the models\n",
    "lda = LinearDiscriminantAnalysis()\n",
    "qda = QuadraticDiscriminantAnalysis()\n",
    "\n",
    "# Dictionary to store the models\n",
    "discriminant_models = {'LDA': lda, 'QDA': qda}\n",
    "\n",
    "# Dictionary to store the results\n",
    "discriminant_results = {}\n",
    "\n",
    "# Fit the models, predict, and calculate metrics\n",
    "for model_name, model in discriminant_models.items():\n",
    "    model.fit(X_train, y_train)\n",
    "    y_cv_pred = model.predict(X_cv)\n",
    "    \n",
    "    accuracy = accuracy_score(y_cv, y_cv_pred)\n",
    "    precision = precision_score(y_cv, y_cv_pred)\n",
    "    recall = recall_score(y_cv, y_cv_pred)\n",
    "    conf_matrix = confusion_matrix(y_cv, y_cv_pred)\n",
    "    \n",
    "    discriminant_results[model_name] = {\n",
    "        'accuracy': accuracy,\n",
    "        'precision': precision,\n",
    "        'recall': recall,\n",
    "        'confusion_matrix': conf_matrix\n",
    "    }"
   ]
  },
  {
   "cell_type": "code",
   "execution_count": 27,
   "metadata": {},
   "outputs": [
    {
     "name": "stderr",
     "output_type": "stream",
     "text": [
      "/Users/charlieyang/anaconda3/lib/python3.11/site-packages/sklearn/utils/validation.py:1339: DataConversionWarning: A column-vector y was passed when a 1d array was expected. Please change the shape of y to (n_samples, ), for example using ravel().\n",
      "  y = column_or_1d(y, warn=True)\n",
      "/Users/charlieyang/anaconda3/lib/python3.11/site-packages/sklearn/utils/validation.py:1339: DataConversionWarning: A column-vector y was passed when a 1d array was expected. Please change the shape of y to (n_samples, ), for example using ravel().\n",
      "  y = column_or_1d(y, warn=True)\n"
     ]
    }
   ],
   "source": [
    "from sklearn.discriminant_analysis import LinearDiscriminantAnalysis, QuadraticDiscriminantAnalysis\n",
    "from sklearn.metrics import accuracy_score, precision_score, recall_score, confusion_matrix\n",
    "\n",
    "# Initialize the models\n",
    "lda3 = LinearDiscriminantAnalysis()\n",
    "qda3 = QuadraticDiscriminantAnalysis()\n",
    "\n",
    "# Dictionary to store the models\n",
    "discriminant_models3 = {'LDA': lda3, 'QDA': qda3}\n",
    "\n",
    "# Dictionary to store the results\n",
    "discriminant_results3 = {}\n",
    "\n",
    "# Fit the models, predict, and calculate metrics\n",
    "for model_name, model in discriminant_models3.items():\n",
    "    model.fit(X_train_301, y_train)\n",
    "    y_cv_pred = model.predict(X_cv_301)\n",
    "    \n",
    "    accuracy = accuracy_score(y_cv, y_cv_pred)\n",
    "    precision = precision_score(y_cv, y_cv_pred)\n",
    "    recall = recall_score(y_cv, y_cv_pred)\n",
    "    conf_matrix = confusion_matrix(y_cv, y_cv_pred)\n",
    "    \n",
    "    discriminant_results3[model_name] = {\n",
    "        'accuracy': accuracy,\n",
    "        'precision': precision,\n",
    "        'recall': recall,\n",
    "        'confusion_matrix': conf_matrix\n",
    "    }"
   ]
  },
  {
   "cell_type": "code",
   "execution_count": null,
   "metadata": {},
   "outputs": [
    {
     "name": "stdout",
     "output_type": "stream",
     "text": [
      "LDA:\n",
      "  Accuracy: 0.4295 -> 0.4947\n",
      "  Precision: 0.4000 -> 0.5506\n",
      "  Recall: 0.0300 -> 0.5506\n",
      "  Confusion Matrix:\n",
      "          Predicted 0  Predicted 1\n",
      "Actual 0    196 -> 88  12 -> 120\n",
      "Actual 1    259 -> 120  8 -> 147\n",
      "\n",
      "QDA:\n",
      "  Accuracy: 0.5116 -> 0.5368\n",
      "  Precision: 0.5665 -> 0.5781\n",
      "  Recall: 0.5581 -> 0.6517\n",
      "  Confusion Matrix:\n",
      "          Predicted 0  Predicted 1\n",
      "Actual 0    94 -> 81  114 -> 127\n",
      "Actual 1    118 -> 93  149 -> 174\n",
      "\n"
     ]
    }
   ],
   "source": [
    "# Print the results\n",
    "for (model_name, metrics), (model_name3, metrics3) in zip(discriminant_results.items(), discriminant_results3.items()):\n",
    "    print(f\"{model_name}:\")\n",
    "    print(f\"  Accuracy: {metrics['accuracy']:.4f} -> {metrics3['accuracy']:.4f}\")\n",
    "    print(f\"  Precision: {metrics['precision']:.4f} -> {metrics3['precision']:.4f}\")\n",
    "    print(f\"  Recall: {metrics['recall']:.4f} -> {metrics3['recall']:.4f}\")\n",
    "    print(f\"  Confusion Matrix:\")\n",
    "    print(f\"          Predicted 0  Predicted 1\")\n",
    "    print(f\"Actual 0    {metrics['confusion_matrix'][0, 0]} -> {metrics3['confusion_matrix'][0, 0]}  {metrics['confusion_matrix'][0, 1]} -> {metrics3['confusion_matrix'][0, 1]}\")\n",
    "    print(f\"Actual 1    {metrics['confusion_matrix'][1, 0]} -> {metrics3['confusion_matrix'][1, 0]}  {metrics['confusion_matrix'][1, 1]} -> {metrics3['confusion_matrix'][1, 1]}\")\n",
    "    print()"
   ]
  },
  {
   "cell_type": "markdown",
   "metadata": {},
   "source": [
    "Decision Trees performs relatively well. Let's prune them and see if they can do better."
   ]
  },
  {
   "cell_type": "code",
   "execution_count": 71,
   "metadata": {},
   "outputs": [],
   "source": [
    "from sklearn.model_selection import cross_val_score\n",
    "\n",
    "tree = DecisionTreeClassifier(random_state=37)\n",
    "\n",
    "# Define the range of parameters for DecisionTreeClassifier\n",
    "depth_values = range(1, 21)\n",
    "best_dt_score = 0\n",
    "best_max_depth = None\n",
    "\n",
    "# Loop through each value of max_depth to find the best one using cross-validation\n",
    "for depth in depth_values:\n",
    "    tree.set_params(max_depth=depth)\n",
    "    scores = cross_val_score(tree, X_train_301, y_train.values.ravel(), cv=5, scoring='accuracy')\n",
    "    mean_score = scores.mean()\n",
    "    if mean_score > best_dt_score:\n",
    "        best_dt_score = mean_score\n",
    "        best_max_depth = depth"
   ]
  },
  {
   "cell_type": "code",
   "execution_count": null,
   "metadata": {},
   "outputs": [
    {
     "name": "stdout",
     "output_type": "stream",
     "text": [
      "Best max_depth for DecisionTreeClassifier: 3 with precision score: 0.5143564940018029\n"
     ]
    }
   ],
   "source": [
    "print(f\"Best max_depth for DecisionTreeClassifier: {best_max_depth} with accuracy score: {best_dt_score}\")"
   ]
  },
  {
   "cell_type": "code",
   "execution_count": 73,
   "metadata": {},
   "outputs": [],
   "source": [
    "result_pruned_tree = {}\n",
    "\n",
    "pruned_tree = DecisionTreeClassifier(random_state=37, max_depth=best_max_depth)\n",
    "\n",
    "pruned_tree.fit(X_train_301, y_train)\n",
    "\n",
    "# Predict the target values for the cross-validation set\n",
    "y_cv_pred = pruned_tree.predict(X_cv_301)\n",
    "\n",
    "# Calculate accuracy, precision, and recall\n",
    "accuracy = accuracy_score(y_cv, y_cv_pred)\n",
    "precision = precision_score(y_cv, y_cv_pred)\n",
    "recall = recall_score(y_cv, y_cv_pred)\n",
    "\n",
    "# Store the results in the dictionary\n",
    "result_pruned_tree['pruned_tree'] = {\n",
    "    'accuracy': accuracy,\n",
    "    'precision': precision,\n",
    "    'recall': recall,\n",
    "    'confusion_matrix': confusion_matrix(y_cv, y_cv_pred)\n",
    "}"
   ]
  },
  {
   "cell_type": "code",
   "execution_count": null,
   "metadata": {},
   "outputs": [
    {
     "name": "stdout",
     "output_type": "stream",
     "text": [
      "Lambda pruned_tree:\n",
      "  Accuracy: 0.5663\n",
      "  Precision: 0.5656\n",
      "  Recall: 0.9850\n",
      "  Confusion Matrix:\n",
      "         Predicted 0  Predicted 1\n",
      "Actual 0    6          202\n",
      "Actual 1    4          263\n",
      "\n"
     ]
    }
   ],
   "source": [
    "for l, metrics in result_pruned_tree.items():\n",
    "    print(f\"{l}:\")\n",
    "    print(f\"  Accuracy: {metrics['accuracy']:.4f}\")\n",
    "    print(f\"  Precision: {metrics['precision']:.4f}\")\n",
    "    print(f\"  Recall: {metrics['recall']:.4f}\")\n",
    "    print(f\"  Confusion Matrix:\")\n",
    "    print(f\"         Predicted 0  Predicted 1\")\n",
    "    print(f\"Actual 0    {metrics['confusion_matrix'][0, 0]}          {metrics['confusion_matrix'][0, 1]}\")\n",
    "    print(f\"Actual 1    {metrics['confusion_matrix'][1, 0]}          {metrics['confusion_matrix'][1, 1]}\")\n",
    "    print()"
   ]
  },
  {
   "cell_type": "markdown",
   "metadata": {},
   "source": [
    "Pruning doesn't help much: it reduces the model to a simple model close to predicting everything as 1."
   ]
  },
  {
   "cell_type": "markdown",
   "metadata": {},
   "source": [
    "nb with X_train, dt3 with X_train_301, qda3 with X_train_301 are the three best models. Now, let's use them to build a trading algorithm and backtest on the cv data. Before doing that, let's first check the shape of the ROC curve."
   ]
  },
  {
   "cell_type": "code",
   "execution_count": 69,
   "metadata": {},
   "outputs": [
    {
     "name": "stdout",
     "output_type": "stream",
     "text": [
      "Area is: 0.7164091397523358\n"
     ]
    },
    {
     "data": {
      "image/png": "[encoded data removed]",
      "text/plain": [
       "<Figure size 1000x700 with 1 Axes>"
      ]
     },
     "metadata": {},
     "output_type": "display_data"
    }
   ],
   "source": [
    "from sklearn.metrics import roc_curve, roc_auc_score, fbeta_score\n",
    "\n",
    "# Get the predicted probabilities for the training set\n",
    "y_prob_train = log_reg3.predict_proba(X_train_301)[:, 1]\n",
    "\n",
    "# Compute the ROC curve\n",
    "fpr_train, tpr_train, thresholds_train = roc_curve(y_train, y_prob_train)\n",
    "\n",
    "# Compute the AUC\n",
    "roc_auc_train = roc_auc_score(y_train, y_prob_train)\n",
    "print(f\"Area is: {roc_auc_train}\")\n",
    "\n",
    "# Plot the ROC curve\n",
    "plt.figure(figsize=(10, 7))\n",
    "plt.plot(fpr_train, tpr_train, color='blue', lw=2, label=f'ROC curve (area = {roc_auc_train:.2f})')\n",
    "plt.plot([0, 1], [0, 1], color='gray', lw=2, linestyle='--')\n",
    "plt.xlim([0.0, 1.0])\n",
    "plt.ylim([0.0, 1.05])\n",
    "plt.xlabel('False Positive Rate')\n",
    "plt.ylabel('True Positive Rate')\n",
    "plt.title('Receiver Operating Characteristic (ROC) Curve')\n",
    "plt.legend(loc=\"lower right\")\n",
    "plt.show()"
   ]
  },
  {
   "cell_type": "markdown",
   "metadata": {},
   "source": [
    "It does have an area of greater than 0.5, which means its predictions are distributed in a way that roughly corresponds with the underlying distribution. However, it can't distinguish between the growth vs loss very well i.e., there doesn't exist a cutoff s.t. the predicted probabilities are well-separated by that cutoff into the desired classes."
   ]
  },
  {
   "cell_type": "markdown",
   "metadata": {},
   "source": [
    "## Backtest"
   ]
  },
  {
   "cell_type": "markdown",
   "metadata": {},
   "source": [
    "Here we present two backtest methods: one is to buy when predicted 1, the other is buy when predicted 0."
   ]
  },
  {
   "cell_type": "code",
   "execution_count": 131,
   "metadata": {},
   "outputs": [],
   "source": [
    "def backtest(model, X, prices):\n",
    "    '''\n",
    "        returns the return of the portfolio if we buy the stock when the model predicts 0\n",
    "    '''\n",
    "    portfolio = 1000\n",
    "    predictions = model.predict(X)\n",
    "    for i in range(len(X)):\n",
    "        if predictions[i] == 1:\n",
    "            portfolio *= prices.iloc[i]['PRC_df_qqq'] / prices.iloc[i]['OPENPRC_df_qqq']\n",
    "    \n",
    "    return \"The return is {:.2f}%\".format((portfolio - 1000) / 1000 * 100)"
   ]
  },
  {
   "cell_type": "code",
   "execution_count": 128,
   "metadata": {},
   "outputs": [],
   "source": [
    "def backtest(model, X, prices):\n",
    "    '''\n",
    "        returns the return of the portfolio if we buy the stock when the model predicts 0\n",
    "    '''\n",
    "    portfolio = 1000\n",
    "    predictions = model.predict(X)\n",
    "    for i in range(len(X)):\n",
    "        if predictions[i] == 0:\n",
    "            portfolio *= prices.iloc[i]['PRC_df_qqq'] / prices.iloc[i]['OPENPRC_df_qqq']\n",
    "    \n",
    "    return \"The return is {:.2f}%\".format((portfolio - 1000) / 1000 * 100)"
   ]
  },
  {
   "cell_type": "markdown",
   "metadata": {},
   "source": [
    "Rough baseline result:"
   ]
  },
  {
   "cell_type": "code",
   "execution_count": 93,
   "metadata": {},
   "outputs": [
    {
     "name": "stdout",
     "output_type": "stream",
     "text": [
      "The return is 110.11%\n"
     ]
    }
   ],
   "source": [
    "last = len(prices_cv) - 1\n",
    "print('The return is {:.2f}%'.format((prices_cv.iloc[last]['PRC_df_qqq'] - prices_cv.iloc[0]['OPENPRC_df_qqq']) / prices_cv.iloc[0]['OPENPRC_df_qqq'] * 100))"
   ]
  },
  {
   "cell_type": "markdown",
   "metadata": {},
   "source": [
    "However, we note that this is comparable because we buy at open and sell at close not at open of the next trading day. Therefore, we make the following adjustments:"
   ]
  },
  {
   "cell_type": "code",
   "execution_count": 132,
   "metadata": {},
   "outputs": [
    {
     "name": "stdout",
     "output_type": "stream",
     "text": [
      "The return is 18.20%\n"
     ]
    }
   ],
   "source": [
    "portfolio = 1000\n",
    "for i in range(len(X_cv)):\n",
    "    portfolio *= prices_cv.iloc[i]['PRC_df_qqq'] / prices_cv.iloc[i]['OPENPRC_df_qqq']\n",
    "print(\"The return is {:.2f}%\".format((portfolio - 1000) / 1000 * 100))"
   ]
  },
  {
   "cell_type": "code",
   "execution_count": 133,
   "metadata": {},
   "outputs": [
    {
     "data": {
      "text/plain": [
       "'The return is 21.39%'"
      ]
     },
     "execution_count": 133,
     "metadata": {},
     "output_type": "execute_result"
    }
   ],
   "source": [
    "backtest(nb, X_cv, prices_cv)"
   ]
  },
  {
   "cell_type": "code",
   "execution_count": 134,
   "metadata": {},
   "outputs": [
    {
     "data": {
      "text/plain": [
       "'The return is 27.39%'"
      ]
     },
     "execution_count": 134,
     "metadata": {},
     "output_type": "execute_result"
    }
   ],
   "source": [
    "backtest(dt3, X_cv_301, prices_cv)"
   ]
  },
  {
   "cell_type": "code",
   "execution_count": 135,
   "metadata": {},
   "outputs": [
    {
     "data": {
      "text/plain": [
       "'The return is 11.83%'"
      ]
     },
     "execution_count": 135,
     "metadata": {},
     "output_type": "execute_result"
    }
   ],
   "source": [
    "backtest(qda3, X_cv_301, prices_cv)"
   ]
  },
  {
   "cell_type": "code",
   "execution_count": 136,
   "metadata": {},
   "outputs": [
    {
     "data": {
      "text/plain": [
       "'The return is -2.63%'"
      ]
     },
     "execution_count": 136,
     "metadata": {},
     "output_type": "execute_result"
    }
   ],
   "source": [
    "backtest_0_buy(nb, X_cv, prices_cv)"
   ]
  },
  {
   "cell_type": "code",
   "execution_count": null,
   "metadata": {},
   "outputs": [
    {
     "data": {
      "text/plain": [
       "'The return is -7.22%'"
      ]
     },
     "execution_count": 113,
     "metadata": {},
     "output_type": "execute_result"
    }
   ],
   "source": [
    "backtest_0_buy(dt3, X_cv_301, prices_cv)"
   ]
  },
  {
   "cell_type": "code",
   "execution_count": null,
   "metadata": {},
   "outputs": [
    {
     "data": {
      "text/plain": [
       "'The return is 5.69%'"
      ]
     },
     "execution_count": 114,
     "metadata": {},
     "output_type": "execute_result"
    }
   ],
   "source": [
    "backtest_0_buy(qda3, X_cv_301, prices_cv)"
   ]
  },
  {
   "cell_type": "markdown",
   "metadata": {},
   "source": [
    "## Backtest on Test Set for the Best Model"
   ]
  },
  {
   "cell_type": "code",
   "execution_count": 137,
   "metadata": {},
   "outputs": [
    {
     "name": "stdout",
     "output_type": "stream",
     "text": [
      "The return is 27.62%\n"
     ]
    }
   ],
   "source": [
    "portfolio = 1000\n",
    "for i in range(len(y_test)):\n",
    "    portfolio *= prices_test.iloc[i]['PRC_df_qqq'] / prices_test.iloc[i]['OPENPRC_df_qqq']\n",
    "print(\"The return is {:.2f}%\".format((portfolio - 1000) / 1000 * 100))"
   ]
  },
  {
   "cell_type": "code",
   "execution_count": 139,
   "metadata": {},
   "outputs": [
    {
     "data": {
      "text/plain": [
       "'The return is 16.41%'"
      ]
     },
     "execution_count": 139,
     "metadata": {},
     "output_type": "execute_result"
    }
   ],
   "source": [
    "backtest(nb, X_test, prices_test)"
   ]
  },
  {
   "cell_type": "code",
   "execution_count": 138,
   "metadata": {},
   "outputs": [
    {
     "data": {
      "text/plain": [
       "'The return is 14.24%'"
      ]
     },
     "execution_count": 138,
     "metadata": {},
     "output_type": "execute_result"
    }
   ],
   "source": [
    "backtest(dt3, X_test_301, prices_test)"
   ]
  },
  {
   "cell_type": "code",
   "execution_count": 140,
   "metadata": {},
   "outputs": [
    {
     "data": {
      "text/plain": [
       "'The return is 40.94%'"
      ]
     },
     "execution_count": 140,
     "metadata": {},
     "output_type": "execute_result"
    }
   ],
   "source": [
    "backtest(qda3, X_test_301, prices_test)"
   ]
  },
  {
   "cell_type": "code",
   "execution_count": 153,
   "metadata": {},
   "outputs": [
    {
     "name": "stdout",
     "output_type": "stream",
     "text": [
      "Accuracy: 0.5305\n",
      "Precision: 0.5500\n",
      "Recall: 0.7276\n",
      "Confusion Matrix:\n",
      "         Predicted 0  Predicted 1\n",
      "Actual 0    65          153\n",
      "Actual 1    70          187\n"
     ]
    }
   ],
   "source": [
    "y_test_pred = qda3.predict(X_test_301)    \n",
    "accuracy = accuracy_score(y_test, y_test_pred)\n",
    "precision = precision_score(y_test, y_test_pred)\n",
    "recall = recall_score(y_test, y_test_pred)\n",
    "conf_matrix = confusion_matrix(y_test, y_test_pred)\n",
    "\n",
    "print(f\"Accuracy: {accuracy:.4f}\")\n",
    "print(f\"Precision: {precision:.4f}\")\n",
    "print(f\"Recall: {recall:.4f}\")\n",
    "print(f\"Confusion Matrix:\")\n",
    "print(f\"         Predicted 0  Predicted 1\")\n",
    "print(f\"Actual 0    {conf_matrix[0, 0]}          {conf_matrix[0, 1]}\")\n",
    "print(f\"Actual 1    {conf_matrix[1, 0]}          {conf_matrix[1, 1]}\")"
   ]
  },
  {
   "cell_type": "code",
   "execution_count": 141,
   "metadata": {},
   "outputs": [
    {
     "data": {
      "text/plain": [
       "'The return is 9.63%'"
      ]
     },
     "execution_count": 141,
     "metadata": {},
     "output_type": "execute_result"
    }
   ],
   "source": [
    "backtest_0_buy(nb, X_test, prices_test)"
   ]
  },
  {
   "cell_type": "code",
   "execution_count": 143,
   "metadata": {},
   "outputs": [
    {
     "data": {
      "text/plain": [
       "'The return is 11.72%'"
      ]
     },
     "execution_count": 143,
     "metadata": {},
     "output_type": "execute_result"
    }
   ],
   "source": [
    "backtest_0_buy(dt3, X_test_301, prices_test)"
   ]
  },
  {
   "cell_type": "code",
   "execution_count": 144,
   "metadata": {},
   "outputs": [
    {
     "data": {
      "text/plain": [
       "'The return is -9.45%'"
      ]
     },
     "execution_count": 144,
     "metadata": {},
     "output_type": "execute_result"
    }
   ],
   "source": [
    "backtest_0_buy(qda3, X_test_301, prices_test)"
   ]
  },
  {
   "cell_type": "code",
   "execution_count": 145,
   "metadata": {},
   "outputs": [
    {
     "name": "stdout",
     "output_type": "stream",
     "text": [
      "The return is 12.58%\n"
     ]
    }
   ],
   "source": [
    "# what about buy and hold?\n",
    "\n",
    "last = len(prices_test) - 1\n",
    "print('The return is {:.2f}%'.format((prices_test.iloc[last]['PRC_df_qqq'] - prices_test.iloc[0]['OPENPRC_df_qqq']) / prices_test.iloc[0]['OPENPRC_df_qqq'] * 100))"
   ]
  },
  {
   "cell_type": "markdown",
   "metadata": {},
   "source": [
    "In the test set, the market condition is different (particularly, not so good), but QDA outperforms by a lot!"
   ]
  }
 ],
 "metadata": {
  "kernelspec": {
   "display_name": "base",
   "language": "python",
   "name": "python3"
  },
  "language_info": {
   "codemirror_mode": {
    "name": "ipython",
    "version": 3
   },
   "file_extension": ".py",
   "mimetype": "text/x-python",
   "name": "python",
   "nbconvert_exporter": "python",
   "pygments_lexer": "ipython3",
   "version": "3.11.5"
  }
 },
 "nbformat": 4,
 "nbformat_minor": 2
}
